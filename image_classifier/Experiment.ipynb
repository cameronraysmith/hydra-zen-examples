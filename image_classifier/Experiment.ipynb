{
 "cells": [
  {
   "cell_type": "markdown",
   "metadata": {},
   "source": [
    "# Image Classification Example"
   ]
  },
  {
   "cell_type": "code",
   "execution_count": 1,
   "metadata": {},
   "outputs": [],
   "source": [
    "import sys\n",
    "\n",
    "sys.path.insert(0, \"image_classifier\")"
   ]
  },
  {
   "cell_type": "code",
   "execution_count": 2,
   "metadata": {},
   "outputs": [],
   "source": [
    "import matplotlib.pyplot as plt\n",
    "import torch\n",
    "from hydra_zen import instantiate, to_yaml\n",
    "from image_classifier import configs"
   ]
  },
  {
   "cell_type": "markdown",
   "metadata": {},
   "source": [
    "## Dataset"
   ]
  },
  {
   "cell_type": "code",
   "execution_count": 3,
   "metadata": {},
   "outputs": [
    {
     "name": "stdout",
     "output_type": "stream",
     "text": [
      "_target_: pytorch_lightning.core.datamodule.LightningDataModule.from_datasets\n",
      "_recursive_: true\n",
      "_convert_: none\n",
      "num_workers: 4\n",
      "batch_size: 10\n",
      "train_dataset:\n",
      "  _target_: torchvision.datasets.cifar.CIFAR10\n",
      "  _recursive_: true\n",
      "  _convert_: none\n",
      "  root: /home/justin_goodwin/.raiden\n",
      "  train: true\n",
      "  transform:\n",
      "    _target_: torchvision.transforms.transforms.Compose\n",
      "    _recursive_: true\n",
      "    _convert_: none\n",
      "    transforms:\n",
      "    - _target_: torchvision.transforms.transforms.RandomCrop\n",
      "      _recursive_: true\n",
      "      _convert_: none\n",
      "      size: 32\n",
      "      padding: 4\n",
      "    - _target_: torchvision.transforms.transforms.RandomHorizontalFlip\n",
      "      _recursive_: true\n",
      "      _convert_: none\n",
      "    - _target_: torchvision.transforms.transforms.ColorJitter\n",
      "      _recursive_: true\n",
      "      _convert_: none\n",
      "      brightness: 0.25\n",
      "      contrast: 0.25\n",
      "      saturation: 0.25\n",
      "    - _target_: torchvision.transforms.transforms.RandomRotation\n",
      "      _recursive_: true\n",
      "      _convert_: none\n",
      "      degrees: 2\n",
      "    - _target_: torchvision.transforms.transforms.ToTensor\n",
      "      _recursive_: true\n",
      "      _convert_: none\n",
      "    - _target_: torchvision.transforms.transforms.Normalize\n",
      "      _recursive_: true\n",
      "      _convert_: none\n",
      "      mean:\n",
      "      - 0.4914\n",
      "      - 0.4822\n",
      "      - 0.4465\n",
      "      std:\n",
      "      - 0.2023\n",
      "      - 0.1994\n",
      "      - 0.201\n",
      "  download: true\n",
      "val_dataset:\n",
      "  _target_: torchvision.datasets.cifar.CIFAR10\n",
      "  _recursive_: true\n",
      "  _convert_: none\n",
      "  root: /home/justin_goodwin/.raiden\n",
      "  train: false\n",
      "  transform:\n",
      "    _target_: torchvision.transforms.transforms.Compose\n",
      "    _recursive_: true\n",
      "    _convert_: none\n",
      "    transforms:\n",
      "    - _target_: torchvision.transforms.transforms.ToTensor\n",
      "      _recursive_: true\n",
      "      _convert_: none\n",
      "    - _target_: torchvision.transforms.transforms.Normalize\n",
      "      _recursive_: true\n",
      "      _convert_: none\n",
      "      mean:\n",
      "      - 0.4914\n",
      "      - 0.4822\n",
      "      - 0.4465\n",
      "      std:\n",
      "      - 0.2023\n",
      "      - 0.1994\n",
      "      - 0.201\n",
      "  download: true\n",
      "test_dataset:\n",
      "  _target_: torchvision.datasets.cifar.CIFAR10\n",
      "  _recursive_: true\n",
      "  _convert_: none\n",
      "  root: /home/justin_goodwin/.raiden\n",
      "  train: false\n",
      "  transform:\n",
      "    _target_: torchvision.transforms.transforms.Compose\n",
      "    _recursive_: true\n",
      "    _convert_: none\n",
      "    transforms:\n",
      "    - _target_: torchvision.transforms.transforms.ToTensor\n",
      "      _recursive_: true\n",
      "      _convert_: none\n",
      "    - _target_: torchvision.transforms.transforms.Normalize\n",
      "      _recursive_: true\n",
      "      _convert_: none\n",
      "      mean:\n",
      "      - 0.4914\n",
      "      - 0.4822\n",
      "      - 0.4465\n",
      "      std:\n",
      "      - 0.2023\n",
      "      - 0.1994\n",
      "      - 0.201\n",
      "  download: true\n",
      "\n"
     ]
    }
   ],
   "source": [
    "print(to_yaml(configs.CIFAR10ModuleConf(batch_size=10)))"
   ]
  },
  {
   "cell_type": "code",
   "execution_count": 4,
   "metadata": {},
   "outputs": [
    {
     "name": "stdout",
     "output_type": "stream",
     "text": [
      "Files already downloaded and verified\n",
      "Files already downloaded and verified\n",
      "Files already downloaded and verified\n"
     ]
    }
   ],
   "source": [
    "data = instantiate(configs.CIFAR10ModuleConf(batch_size=10))"
   ]
  },
  {
   "cell_type": "code",
   "execution_count": 5,
   "metadata": {},
   "outputs": [
    {
     "data": {
      "text/plain": [
       "torch.Size([10, 3, 32, 32])"
      ]
     },
     "execution_count": 5,
     "metadata": {},
     "output_type": "execute_result"
    }
   ],
   "source": [
    "x, y = next(iter(data.test_dataloader()))\n",
    "x.shape"
   ]
  },
  {
   "cell_type": "code",
   "execution_count": 6,
   "metadata": {},
   "outputs": [
    {
     "data": {
      "text/plain": [
       "<matplotlib.image.AxesImage at 0x7f2aead91c40>"
      ]
     },
     "execution_count": 6,
     "metadata": {},
     "output_type": "execute_result"
    },
    {
     "data": {
      "image/png": "[encoded data removed]",
      "text/plain": [
       "<Figure size 432x288 with 1 Axes>"
      ]
     },
     "metadata": {
      "needs_background": "light"
     },
     "output_type": "display_data"
    }
   ],
   "source": [
    "im = x[0].permute(1, 2, 0).numpy()\n",
    "im = (im - im.min()) / (im.max() - im.min())\n",
    "plt.imshow(im)"
   ]
  },
  {
   "cell_type": "markdown",
   "metadata": {},
   "source": [
    "## Model"
   ]
  },
  {
   "cell_type": "code",
   "execution_count": 7,
   "metadata": {},
   "outputs": [],
   "source": [
    "module = instantiate(\n",
    "    configs.ImageClassificationConf(model=configs.ResNet50Conf, optim=configs.SGDConf)\n",
    ")"
   ]
  },
  {
   "cell_type": "markdown",
   "metadata": {},
   "source": [
    "### Test with pre-trained model"
   ]
  },
  {
   "cell_type": "code",
   "execution_count": 8,
   "metadata": {},
   "outputs": [
    {
     "data": {
      "text/plain": [
       "<All keys matched successfully>"
      ]
     },
     "execution_count": 8,
     "metadata": {},
     "output_type": "execute_result"
    }
   ],
   "source": [
    "# Download a version from here\n",
    "from pathlib import Path\n",
    "\n",
    "Path(\"data\").mkdir(exist_ok=True)\n",
    "ckpt = Path(\"data\") / \"torchvision_cifar_l2_1_0.pt\"\n",
    "if not ckpt.exists():\n",
    "    import requests\n",
    "\n",
    "    headers = {\"user-agent\": \"Wget/1.16 (linux-gnu)\"}\n",
    "    url = \"https://www.dropbox.com/s/oagh1e6vji2z252/torchvision_cifar_l2_1_0.pt?dl=1\"\n",
    "    r = requests.get(url, stream=True, headers=headers)\n",
    "    with open(ckpt, \"wb\") as f:\n",
    "        for chunk in r.iter_content(chunk_size=1024):\n",
    "            if chunk:\n",
    "                f.write(chunk)\n",
    "\n",
    "module.model.load_state_dict(torch.load(ckpt)[\"state_dict\"])"
   ]
  },
  {
   "cell_type": "code",
   "execution_count": 9,
   "metadata": {},
   "outputs": [
    {
     "data": {
      "text/plain": [
       "tensor([True, True, True, True, True, True, True, True, True, True])"
      ]
     },
     "execution_count": 9,
     "metadata": {},
     "output_type": "execute_result"
    }
   ],
   "source": [
    "module.eval()\n",
    "module(x).argmax(1) == y"
   ]
  },
  {
   "cell_type": "markdown",
   "metadata": {},
   "source": [
    "## Train"
   ]
  },
  {
   "cell_type": "code",
   "execution_count": 10,
   "metadata": {},
   "outputs": [
    {
     "name": "stderr",
     "output_type": "stream",
     "text": [
      "GPU available: True, used: True\n",
      "TPU available: False, using: 0 TPU cores\n"
     ]
    }
   ],
   "source": [
    "trainer = instantiate(\n",
    "    configs.TrainerConf(\n",
    "        accelerator=\"dp\", default_root_dir=\"outputs/lightning\", max_epochs=1\n",
    "    )\n",
    ")\n",
    "# trainer.fit(module, datamodule=data)"
   ]
  },
  {
   "cell_type": "markdown",
   "metadata": {},
   "source": [
    "## Hydra-Run"
   ]
  },
  {
   "cell_type": "code",
   "execution_count": 11,
   "metadata": {},
   "outputs": [],
   "source": [
    "from hydra_zen.experimental import hydra_run"
   ]
  },
  {
   "cell_type": "code",
   "execution_count": 16,
   "metadata": {},
   "outputs": [],
   "source": [
    "def task_function(cfg):\n",
    "    data = instantiate(cfg.experiment.lightning_data_module)\n",
    "    model = instantiate(cfg.experiment.lightning_module)\n",
    "    trainer = instantiate(cfg.experiment.lightning_trainer)\n",
    "    trainer.fit(model, datamodule=data)\n",
    "    return model"
   ]
  },
  {
   "cell_type": "code",
   "execution_count": 19,
   "metadata": {},
   "outputs": [
    {
     "name": "stdout",
     "output_type": "stream",
     "text": [
      "Files already downloaded and verified\n",
      "Files already downloaded and verified\n",
      "Files already downloaded and verified\n"
     ]
    },
    {
     "name": "stderr",
     "output_type": "stream",
     "text": [
      "GPU available: True, used: True\n",
      "TPU available: False, using: 0 TPU cores\n",
      "LOCAL_RANK: 0 - CUDA_VISIBLE_DEVICES: [0,1]\n",
      "\n",
      "  | Name      | Type             | Params\n",
      "-----------------------------------------------\n",
      "0 | model     | ResNet           | 11.2 M\n",
      "1 | predictor | Softmax          | 0     \n",
      "2 | criterion | CrossEntropyLoss | 0     \n",
      "3 | metrics   | MetricCollection | 0     \n",
      "-----------------------------------------------\n",
      "11.2 M    Trainable params\n",
      "0         Non-trainable params\n",
      "11.2 M    Total params\n",
      "44.696    Total estimated model params size (MB)\n"
     ]
    },
    {
     "data": {
      "application/vnd.jupyter.widget-view+json": {
       "model_id": "",
       "version_major": 2,
       "version_minor": 0
      },
      "text/plain": [
       "Validation sanity check: 0it [00:00, ?it/s]"
      ]
     },
     "metadata": {},
     "output_type": "display_data"
    },
    {
     "data": {
      "application/vnd.jupyter.widget-view+json": {
       "model_id": "770b7f42228d4fb7948476e165250945",
       "version_major": 2,
       "version_minor": 0
      },
      "text/plain": [
       "Training: 0it [00:00, ?it/s]"
      ]
     },
     "metadata": {},
     "output_type": "display_data"
    },
    {
     "data": {
      "application/vnd.jupyter.widget-view+json": {
       "model_id": "",
       "version_major": 2,
       "version_minor": 0
      },
      "text/plain": [
       "Validating: 0it [00:00, ?it/s]"
      ]
     },
     "metadata": {},
     "output_type": "display_data"
    }
   ],
   "source": [
    "job = hydra_run(\n",
    "    configs.Config,\n",
    "    task_function=task_function,\n",
    "    overrides=[\n",
    "        \"model=resnet18\",\n",
    "        \"optim=sgd\",\n",
    "        \"optim.lr=0.05\",\n",
    "        \"experiment.lightning_data_module.batch_size=512\",\n",
    "        \"experiment.lightning_trainer.accelerator=dp\",\n",
    "        \"experiment.lightning_trainer.max_epochs=1\",\n",
    "    ],\n",
    ")"
   ]
  },
  {
   "cell_type": "code",
   "execution_count": 20,
   "metadata": {},
   "outputs": [
    {
     "data": {
      "text/plain": [
       "'outputs/2021-05-17/13-50-21'"
      ]
     },
     "execution_count": 20,
     "metadata": {},
     "output_type": "execute_result"
    }
   ],
   "source": [
    "job.working_dir"
   ]
  },
  {
   "cell_type": "code",
   "execution_count": 21,
   "metadata": {},
   "outputs": [],
   "source": [
    "trained_module = job.return_value"
   ]
  },
  {
   "cell_type": "markdown",
   "metadata": {},
   "source": [
    "## Hydra-Multirun"
   ]
  },
  {
   "cell_type": "code",
   "execution_count": 22,
   "metadata": {},
   "outputs": [],
   "source": [
    "from hydra_zen.experimental import hydra_multirun"
   ]
  },
  {
   "cell_type": "code",
   "execution_count": 23,
   "metadata": {},
   "outputs": [
    {
     "name": "stdout",
     "output_type": "stream",
     "text": [
      "[2021-05-17 13:50:47,245][HYDRA] Launching 4 jobs locally\n",
      "[2021-05-17 13:50:47,246][HYDRA] \t#0 : model=resnet18 optim=sgd experiment.lightning_trainer.max_epochs=1 experiment.lightning_trainer.accelerator=dp\n",
      "Files already downloaded and verified\n",
      "Files already downloaded and verified\n",
      "Files already downloaded and verified\n"
     ]
    },
    {
     "name": "stderr",
     "output_type": "stream",
     "text": [
      "GPU available: True, used: True\n",
      "TPU available: False, using: 0 TPU cores\n",
      "LOCAL_RANK: 0 - CUDA_VISIBLE_DEVICES: [0,1]\n",
      "\n",
      "  | Name      | Type             | Params\n",
      "-----------------------------------------------\n",
      "0 | model     | ResNet           | 11.2 M\n",
      "1 | predictor | Softmax          | 0     \n",
      "2 | criterion | CrossEntropyLoss | 0     \n",
      "3 | metrics   | MetricCollection | 0     \n",
      "-----------------------------------------------\n",
      "11.2 M    Trainable params\n",
      "0         Non-trainable params\n",
      "11.2 M    Total params\n",
      "44.696    Total estimated model params size (MB)\n"
     ]
    },
    {
     "data": {
      "application/vnd.jupyter.widget-view+json": {
       "model_id": "",
       "version_major": 2,
       "version_minor": 0
      },
      "text/plain": [
       "Validation sanity check: 0it [00:00, ?it/s]"
      ]
     },
     "metadata": {},
     "output_type": "display_data"
    },
    {
     "data": {
      "application/vnd.jupyter.widget-view+json": {
       "model_id": "ae996576498646e39c9ec1e264a20fa8",
       "version_major": 2,
       "version_minor": 0
      },
      "text/plain": [
       "Training: 0it [00:00, ?it/s]"
      ]
     },
     "metadata": {},
     "output_type": "display_data"
    },
    {
     "data": {
      "application/vnd.jupyter.widget-view+json": {
       "model_id": "",
       "version_major": 2,
       "version_minor": 0
      },
      "text/plain": [
       "Validating: 0it [00:00, ?it/s]"
      ]
     },
     "metadata": {},
     "output_type": "display_data"
    },
    {
     "name": "stdout",
     "output_type": "stream",
     "text": [
      "[2021-05-17 13:51:10,174][HYDRA] \t#1 : model=resnet18 optim=adam experiment.lightning_trainer.max_epochs=1 experiment.lightning_trainer.accelerator=dp\n",
      "Files already downloaded and verified\n",
      "Files already downloaded and verified\n",
      "Files already downloaded and verified\n"
     ]
    },
    {
     "name": "stderr",
     "output_type": "stream",
     "text": [
      "GPU available: True, used: True\n",
      "TPU available: False, using: 0 TPU cores\n",
      "LOCAL_RANK: 0 - CUDA_VISIBLE_DEVICES: [0,1]\n",
      "\n",
      "  | Name      | Type             | Params\n",
      "-----------------------------------------------\n",
      "0 | model     | ResNet           | 11.2 M\n",
      "1 | predictor | Softmax          | 0     \n",
      "2 | criterion | CrossEntropyLoss | 0     \n",
      "3 | metrics   | MetricCollection | 0     \n",
      "-----------------------------------------------\n",
      "11.2 M    Trainable params\n",
      "0         Non-trainable params\n",
      "11.2 M    Total params\n",
      "44.696    Total estimated model params size (MB)\n"
     ]
    },
    {
     "data": {
      "application/vnd.jupyter.widget-view+json": {
       "model_id": "",
       "version_major": 2,
       "version_minor": 0
      },
      "text/plain": [
       "Validation sanity check: 0it [00:00, ?it/s]"
      ]
     },
     "metadata": {},
     "output_type": "display_data"
    },
    {
     "data": {
      "application/vnd.jupyter.widget-view+json": {
       "model_id": "672fa547e6be4de5a3be13d8871a481d",
       "version_major": 2,
       "version_minor": 0
      },
      "text/plain": [
       "Training: 0it [00:00, ?it/s]"
      ]
     },
     "metadata": {},
     "output_type": "display_data"
    },
    {
     "data": {
      "application/vnd.jupyter.widget-view+json": {
       "model_id": "",
       "version_major": 2,
       "version_minor": 0
      },
      "text/plain": [
       "Validating: 0it [00:00, ?it/s]"
      ]
     },
     "metadata": {},
     "output_type": "display_data"
    },
    {
     "name": "stdout",
     "output_type": "stream",
     "text": [
      "[2021-05-17 13:51:34,787][HYDRA] \t#2 : model=resnet50 optim=sgd experiment.lightning_trainer.max_epochs=1 experiment.lightning_trainer.accelerator=dp\n",
      "Files already downloaded and verified\n",
      "Files already downloaded and verified\n",
      "Files already downloaded and verified\n"
     ]
    },
    {
     "name": "stderr",
     "output_type": "stream",
     "text": [
      "GPU available: True, used: True\n",
      "TPU available: False, using: 0 TPU cores\n",
      "LOCAL_RANK: 0 - CUDA_VISIBLE_DEVICES: [0,1]\n",
      "\n",
      "  | Name      | Type             | Params\n",
      "-----------------------------------------------\n",
      "0 | model     | ResNet           | 23.5 M\n",
      "1 | predictor | Softmax          | 0     \n",
      "2 | criterion | CrossEntropyLoss | 0     \n",
      "3 | metrics   | MetricCollection | 0     \n",
      "-----------------------------------------------\n",
      "23.5 M    Trainable params\n",
      "0         Non-trainable params\n",
      "23.5 M    Total params\n",
      "94.083    Total estimated model params size (MB)\n"
     ]
    },
    {
     "data": {
      "application/vnd.jupyter.widget-view+json": {
       "model_id": "",
       "version_major": 2,
       "version_minor": 0
      },
      "text/plain": [
       "Validation sanity check: 0it [00:00, ?it/s]"
      ]
     },
     "metadata": {},
     "output_type": "display_data"
    },
    {
     "data": {
      "application/vnd.jupyter.widget-view+json": {
       "model_id": "8f7f4d9f53234d19ab6d580c2f5d56eb",
       "version_major": 2,
       "version_minor": 0
      },
      "text/plain": [
       "Training: 0it [00:00, ?it/s]"
      ]
     },
     "metadata": {},
     "output_type": "display_data"
    },
    {
     "data": {
      "application/vnd.jupyter.widget-view+json": {
       "model_id": "",
       "version_major": 2,
       "version_minor": 0
      },
      "text/plain": [
       "Validating: 0it [00:00, ?it/s]"
      ]
     },
     "metadata": {},
     "output_type": "display_data"
    },
    {
     "name": "stdout",
     "output_type": "stream",
     "text": [
      "[2021-05-17 13:52:38,517][HYDRA] \t#3 : model=resnet50 optim=adam experiment.lightning_trainer.max_epochs=1 experiment.lightning_trainer.accelerator=dp\n",
      "Files already downloaded and verified\n",
      "Files already downloaded and verified\n",
      "Files already downloaded and verified\n"
     ]
    },
    {
     "name": "stderr",
     "output_type": "stream",
     "text": [
      "GPU available: True, used: True\n",
      "TPU available: False, using: 0 TPU cores\n",
      "LOCAL_RANK: 0 - CUDA_VISIBLE_DEVICES: [0,1]\n",
      "\n",
      "  | Name      | Type             | Params\n",
      "-----------------------------------------------\n",
      "0 | model     | ResNet           | 23.5 M\n",
      "1 | predictor | Softmax          | 0     \n",
      "2 | criterion | CrossEntropyLoss | 0     \n",
      "3 | metrics   | MetricCollection | 0     \n",
      "-----------------------------------------------\n",
      "23.5 M    Trainable params\n",
      "0         Non-trainable params\n",
      "23.5 M    Total params\n",
      "94.083    Total estimated model params size (MB)\n"
     ]
    },
    {
     "data": {
      "application/vnd.jupyter.widget-view+json": {
       "model_id": "",
       "version_major": 2,
       "version_minor": 0
      },
      "text/plain": [
       "Validation sanity check: 0it [00:00, ?it/s]"
      ]
     },
     "metadata": {},
     "output_type": "display_data"
    },
    {
     "data": {
      "application/vnd.jupyter.widget-view+json": {
       "model_id": "44d485cbc91f4f5eae82d2e37ced44ad",
       "version_major": 2,
       "version_minor": 0
      },
      "text/plain": [
       "Training: 0it [00:00, ?it/s]"
      ]
     },
     "metadata": {},
     "output_type": "display_data"
    },
    {
     "data": {
      "application/vnd.jupyter.widget-view+json": {
       "model_id": "",
       "version_major": 2,
       "version_minor": 0
      },
      "text/plain": [
       "Validating: 0it [00:00, ?it/s]"
      ]
     },
     "metadata": {},
     "output_type": "display_data"
    }
   ],
   "source": [
    "job = hydra_multirun(\n",
    "    configs.Config,\n",
    "    task_function=task_function,\n",
    "    overrides=[\n",
    "        \"model=resnet18,resnet50\",\n",
    "        \"optim=sgd,adam\",\n",
    "        \"experiment.lightning_trainer.max_epochs=1\",\n",
    "        \"experiment.lightning_trainer.accelerator=dp\",\n",
    "    ],\n",
    ")"
   ]
  },
  {
   "cell_type": "code",
   "execution_count": 24,
   "metadata": {},
   "outputs": [
    {
     "data": {
      "text/plain": [
       "4"
      ]
     },
     "execution_count": 24,
     "metadata": {},
     "output_type": "execute_result"
    }
   ],
   "source": [
    "len(job[0])"
   ]
  },
  {
   "cell_type": "code",
   "execution_count": 25,
   "metadata": {},
   "outputs": [
    {
     "data": {
      "text/plain": [
       "'multirun/2021-05-17/13-50-46/0'"
      ]
     },
     "execution_count": 25,
     "metadata": {},
     "output_type": "execute_result"
    }
   ],
   "source": [
    "job[0][0].working_dir"
   ]
  },
  {
   "cell_type": "code",
   "execution_count": 26,
   "metadata": {},
   "outputs": [
    {
     "name": "stdout",
     "output_type": "stream",
     "text": [
      "_target_: image_classifier.resnet.resnet18\n",
      "_recursive_: true\n",
      "_convert_: none\n",
      "\n"
     ]
    }
   ],
   "source": [
    "print(to_yaml(job[0][0].cfg.model))"
   ]
  },
  {
   "cell_type": "code",
   "execution_count": 27,
   "metadata": {},
   "outputs": [
    {
     "name": "stdout",
     "output_type": "stream",
     "text": [
      "_target_: hydra_zen.funcs.partial\n",
      "_recursive_: true\n",
      "_convert_: none\n",
      "_partial_target_:\n",
      "  _target_: hydra_zen.funcs.get_obj\n",
      "  path: torch.optim.sgd.SGD\n",
      "lr: 0.1\n",
      "momentum: 0.9\n",
      "\n"
     ]
    }
   ],
   "source": [
    "print(to_yaml(job[0][0].cfg.optim))"
   ]
  },
  {
   "cell_type": "code",
   "execution_count": 28,
   "metadata": {},
   "outputs": [
    {
     "data": {
      "text/plain": [
       "256"
      ]
     },
     "execution_count": 28,
     "metadata": {},
     "output_type": "execute_result"
    }
   ],
   "source": [
    "job[0][0].cfg.experiment.lightning_data_module.batch_size"
   ]
  },
  {
   "cell_type": "code",
   "execution_count": 29,
   "metadata": {},
   "outputs": [
    {
     "data": {
      "text/plain": [
       "True"
      ]
     },
     "execution_count": 29,
     "metadata": {},
     "output_type": "execute_result"
    }
   ],
   "source": [
    "isinstance(job[0][0].return_value, torch.nn.Module)"
   ]
  },
  {
   "cell_type": "code",
   "execution_count": null,
   "metadata": {},
   "outputs": [],
   "source": []
  }
 ],
 "metadata": {
  "kernelspec": {
   "display_name": "Python [conda env:.conda-raiden-release]",
   "language": "python",
   "name": "conda-env-.conda-raiden-release-py"
  },
  "language_info": {
   "codemirror_mode": {
    "name": "ipython",
    "version": 3
   },
   "file_extension": ".py",
   "mimetype": "text/x-python",
   "name": "python",
   "nbconvert_exporter": "python",
   "pygments_lexer": "ipython3",
   "version": "3.8.5"
  }
 },
 "nbformat": 4,
 "nbformat_minor": 4
}
